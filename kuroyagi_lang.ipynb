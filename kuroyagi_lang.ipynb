{
  "nbformat": 4,
  "nbformat_minor": 0,
  "metadata": {
    "colab": {
      "provenance": [],
      "name": "kuroyagi_lang.ipynb",
      "authorship_tag": "ABX9TyNQB/c+GavkPP/cC7ojluJ5",
      "include_colab_link": true
    },
    "kernelspec": {
      "name": "python3",
      "display_name": "Python 3"
    },
    "language_info": {
      "name": "python"
    }
  },
  "cells": [
    {
      "cell_type": "markdown",
      "metadata": {
        "id": "view-in-github",
        "colab_type": "text"
      },
      "source": [
        "<a href=\"https://colab.research.google.com/github/KTakahiro1729/KTakahiro1729.github.io/blob/master/kuroyagi_lang.ipynb\" target=\"_parent\"><img src=\"https://colab.research.google.com/assets/colab-badge.svg\" alt=\"Open In Colab\"/></a>"
      ]
    },
    {
      "cell_type": "code",
      "source": [
        "#@markdown 必要なライブラリをダウンロードします\n",
        "!pip install googletrans==4.0.0-rc1\n",
        "!pip install unidecode"
      ],
      "metadata": {
        "colab": {
          "base_uri": "https://localhost:8080/"
        },
        "cellView": "form",
        "id": "lz709RX3qUQh",
        "outputId": "8e2f6d81-25d7-4ab7-9ba9-811e8993b5d9"
      },
      "execution_count": null,
      "outputs": [
        {
          "output_type": "stream",
          "name": "stdout",
          "text": [
            "Looking in indexes: https://pypi.org/simple, https://us-python.pkg.dev/colab-wheels/public/simple/\n",
            "Requirement already satisfied: googletrans==4.0.0-rc1 in /usr/local/lib/python3.9/dist-packages (4.0.0rc1)\n",
            "Requirement already satisfied: httpx==0.13.3 in /usr/local/lib/python3.9/dist-packages (from googletrans==4.0.0-rc1) (0.13.3)\n",
            "Requirement already satisfied: sniffio in /usr/local/lib/python3.9/dist-packages (from httpx==0.13.3->googletrans==4.0.0-rc1) (1.3.0)\n",
            "Requirement already satisfied: httpcore==0.9.* in /usr/local/lib/python3.9/dist-packages (from httpx==0.13.3->googletrans==4.0.0-rc1) (0.9.1)\n",
            "Requirement already satisfied: hstspreload in /usr/local/lib/python3.9/dist-packages (from httpx==0.13.3->googletrans==4.0.0-rc1) (2023.1.1)\n",
            "Requirement already satisfied: certifi in /usr/local/lib/python3.9/dist-packages (from httpx==0.13.3->googletrans==4.0.0-rc1) (2022.12.7)\n",
            "Requirement already satisfied: idna==2.* in /usr/local/lib/python3.9/dist-packages (from httpx==0.13.3->googletrans==4.0.0-rc1) (2.10)\n",
            "Requirement already satisfied: rfc3986<2,>=1.3 in /usr/local/lib/python3.9/dist-packages (from httpx==0.13.3->googletrans==4.0.0-rc1) (1.5.0)\n",
            "Requirement already satisfied: chardet==3.* in /usr/local/lib/python3.9/dist-packages (from httpx==0.13.3->googletrans==4.0.0-rc1) (3.0.4)\n",
            "Requirement already satisfied: h2==3.* in /usr/local/lib/python3.9/dist-packages (from httpcore==0.9.*->httpx==0.13.3->googletrans==4.0.0-rc1) (3.2.0)\n",
            "Requirement already satisfied: h11<0.10,>=0.8 in /usr/local/lib/python3.9/dist-packages (from httpcore==0.9.*->httpx==0.13.3->googletrans==4.0.0-rc1) (0.9.0)\n",
            "Requirement already satisfied: hpack<4,>=3.0 in /usr/local/lib/python3.9/dist-packages (from h2==3.*->httpcore==0.9.*->httpx==0.13.3->googletrans==4.0.0-rc1) (3.0.0)\n",
            "Requirement already satisfied: hyperframe<6,>=5.2.0 in /usr/local/lib/python3.9/dist-packages (from h2==3.*->httpcore==0.9.*->httpx==0.13.3->googletrans==4.0.0-rc1) (5.2.0)\n",
            "Looking in indexes: https://pypi.org/simple, https://us-python.pkg.dev/colab-wheels/public/simple/\n",
            "Requirement already satisfied: unidecode in /usr/local/lib/python3.9/dist-packages (1.3.6)\n"
          ]
        }
      ]
    },
    {
      "cell_type": "code",
      "source": [
        "\n",
        "from googletrans import Translator\n",
        "\n",
        "#@title　日本語⇒ハワイ語\n",
        "text = \"\\u7F8E\\u5473\\u306A\\u98DF\\u3079\\u7269\\u304C\\u98DF\\u3079\\u305F\\u3044\"#@param {type:\"string\"}\n",
        "translator = Translator()\n",
        "haw = translator.translate(text, src='ja', dest='haw')\n",
        "ja_retrans = translator.translate(haw.text, src='haw', dest='ja')\n",
        "\n",
        "print(\"ハワイ語翻訳:\", haw.text)\n",
        "print(\"日本語再翻訳:\", ja_retrans.text)\n",
        "\n"
      ],
      "metadata": {
        "colab": {
          "base_uri": "https://localhost:8080/"
        },
        "cellView": "form",
        "id": "6TP9kOvvk6dq",
        "outputId": "2926e9a0-24f8-4c75-900a-8932bf99a0e8"
      },
      "execution_count": null,
      "outputs": [
        {
          "output_type": "stream",
          "name": "stdout",
          "text": [
            "ハワイ語翻訳: Makemake wau eʻai i ka meaʻai momona\n",
            "日本語再翻訳: 甘い食べ物を食べたいです\n"
          ]
        }
      ]
    },
    {
      "cell_type": "code",
      "execution_count": null,
      "metadata": {
        "colab": {
          "base_uri": "https://localhost:8080/"
        },
        "cellView": "form",
        "id": "gzQ3Rtn0d37T",
        "outputId": "8e09de35-7a4e-4b27-c585-06cb00218d8d"
      },
      "outputs": [
        {
          "output_type": "stream",
          "name": "stdout",
          "text": [
            "原文: 　 Makemake wau eʻai i ka meaʻai momona\n",
            "逆向き:  anomom iaʻaem ak i iaʻe uaw ekamekam\n",
            "置換後:  mamemem iaaem ak i iae eam ekamekam\n",
            "最終形:  （いあ）まめめむ いああえむ あく い いあえ えあむ えかめかむ（めぇ！）\n"
          ]
        }
      ],
      "source": [
        "from unidecode import unidecode\n",
        "def replace_dict(string, dict_):\n",
        "    result = string\n",
        "    for k,v in dict_.items():\n",
        "        result = result.replace(k,v)\n",
        "    return result \n",
        "def roma2hira(string):\n",
        "    result = string\n",
        "    roma = \"kakikukekohahihuhehomamimumemo\"\n",
        "    hira = \"かきくけこはひふへほまみむめも\"\n",
        "    result = \"\".join([i for i in result if i in \"aiueokhm , !\"])\n",
        "    trans_dict = {**{roma[i*2:i*2+2]:hira[i] for i in range(15)} , **dict(zip(\"aiueo\",\"あいうえお\")), \n",
        "                  \"m\":\"む\", \"h\":\"ふ\", \"k\":\"く\", \",\": \"、\"}\n",
        "    result = replace_dict(result, trans_dict)\n",
        "    return result\n",
        "\n",
        "#@title ハワイ語⇒黒山羊語\n",
        "\n",
        "#@markdown 上のセルの翻訳結果をそのまま使う場合は、空欄でお願いします。\n",
        "text = None#@param\n",
        "\n",
        "result = text if text else haw.text\n",
        "print(\"原文: 　\", result)\n",
        "result = \",\".join([i[::-1] for i in result.split(\",\")]).lower()\n",
        "print(\"逆向き: \", result)\n",
        "result = unidecode(result) #カハコー, オキナの処理\n",
        "result = result.replace(\"`\", \"\")\n",
        "result = replace_dict(\"m\"+result, {**{i:\"m\" for i in \"lpnwrg\"}, **{i:\"e\" for i in \"uo\"}})\n",
        "print(\"置換後: \", result)\n",
        "result = roma2hira(result)\n",
        "print(\"最終形: \", \"（いあ）\"+result+ \"（めぇ！）\")"
      ]
    }
  ]
}